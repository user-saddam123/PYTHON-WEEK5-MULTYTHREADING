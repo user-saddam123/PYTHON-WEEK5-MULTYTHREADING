{
 "cells": [
  {
   "cell_type": "markdown",
   "id": "5c2b3311-e867-43f0-8460-c24e5a8e1fec",
   "metadata": {},
   "source": [
    "ASSIGNMENT"
   ]
  },
  {
   "cell_type": "markdown",
   "id": "18e238d7-65ae-4111-8463-37b10c1bafa4",
   "metadata": {},
   "source": [
    "MULTYTHREADING, ASSIGNMENT ,SOLUTION ,FOR, PW SKILLS, BY ,SADDAM, ANSARI"
   ]
  },
  {
   "cell_type": "markdown",
   "id": "46642d24-7ea2-46ec-9d14-b36a65036132",
   "metadata": {},
   "source": [
    "Q1. What is multithreading in python? Why is it used? Name the module used to handle threads in python."
   ]
  },
  {
   "cell_type": "markdown",
   "id": "023619a7-47c1-45e0-9e4c-2124090328aa",
   "metadata": {},
   "source": [
    "\n",
    "Multithreading is in Python refers to  ability of a program to execute multiple threads concurrently. A thread is a lightweight unit of execution within a process, and multithreading allows different threads to run concurrently, sharing the same resources such as memory space and file descriptors.\n",
    "\n",
    "The module commonly used to handle threads in Python is called threading. It provides a high-level interface for creating and managing threads"
   ]
  },
  {
   "cell_type": "code",
   "execution_count": null,
   "id": "3f082d0b-089c-44ab-836f-b5648bdb7b67",
   "metadata": {},
   "outputs": [],
   "source": []
  },
  {
   "cell_type": "markdown",
   "id": "9f5b876b-cee1-4895-8ed3-cae74b16a0a5",
   "metadata": {},
   "source": [
    "Q2. Why threading module used? Write the use of the following functions.\n",
    "1. activeCount()\n",
    "2. currentThread()\n",
    "3. enumerate()\n"
   ]
  },
  {
   "cell_type": "markdown",
   "id": "fbb04f7c-8a45-412b-9e6b-01f9be4cd2f1",
   "metadata": {},
   "source": [
    "The threading module in Python is used for creating and managing threads in a Python program.\n",
    "\n",
    "1. activeCount(): This function returns the number of currently active Thread objects. It can be used to get a count of all running threads in a program.\n",
    "\n",
    "2. currentThread(): This function returns the current Thread object corresponding to the calling thread. It is useful when you need to access or manipulate the thread from within its own execution context.\n",
    "\n",
    "3. enumerate(): This function returns a list of all currently active Thread objects. It can be used to get a list of all running threads in a program. "
   ]
  },
  {
   "cell_type": "code",
   "execution_count": null,
   "id": "787eccc3-131a-44d6-b4d6-cbab76fb0c27",
   "metadata": {},
   "outputs": [],
   "source": []
  },
  {
   "cell_type": "markdown",
   "id": "f82450e1-a632-4be1-aed3-fa95d9bd9904",
   "metadata": {},
   "source": [
    "Q3. Explain the following functions:\n",
    "1. run()\n",
    "2. start()\n",
    "3. join()\n",
    "4. isAlive()"
   ]
  },
  {
   "cell_type": "markdown",
   "id": "7c5fb7f8-587b-4c63-a1a0-82ca4869c084",
   "metadata": {},
   "source": [
    "1. run(): The run() method is the entry point for the execution of a thread. It is called automatically when a thread's start() method is invoked.\n",
    "\n",
    "2. start(): The start() method is used to start the execution of a thread. It creates a new system-level thread and calls the thread's run() method.\n",
    "\n",
    "3. join(): The join() method is used to block the calling thread until a thread completes its execution.\n",
    "\n",
    "4. isAlive(): The isAlive() method is used to check whether a thread is currently running or not. It returns True if the thread is still active and executing, and False otherwise.\n",
    "\n"
   ]
  },
  {
   "cell_type": "code",
   "execution_count": null,
   "id": "db69515d-ddef-4a4a-927e-be5da0ea9f1f",
   "metadata": {},
   "outputs": [],
   "source": []
  },
  {
   "cell_type": "markdown",
   "id": "13637ae4-7829-4918-a6e3-95f3abc4bcc2",
   "metadata": {},
   "source": [
    "4. Write a python program to create two threads. Thread one must print the list of squares and thread two must print the list of cubes"
   ]
  },
  {
   "cell_type": "code",
   "execution_count": 2,
   "id": "66d6b9b0-0f9e-4ad0-b2e4-b0f57eb76105",
   "metadata": {},
   "outputs": [],
   "source": [
    "import threading"
   ]
  },
  {
   "cell_type": "code",
   "execution_count": 22,
   "id": "bf94aa61-491f-4d9e-9461-315853b15fdf",
   "metadata": {},
   "outputs": [],
   "source": [
    "def squre():\n",
    "    for n in range(1,5):\n",
    "        print(f\"squre of {n} = {n**2}\")\n",
    "        \n",
    "def cube():\n",
    "    for n in range(1,5):\n",
    "        print(f\"cube of {n} = {n**3}\")\n",
    "        "
   ]
  },
  {
   "cell_type": "code",
   "execution_count": 23,
   "id": "e9ac5051-b3a5-4512-a0cf-be360b2e8cc6",
   "metadata": {},
   "outputs": [],
   "source": [
    "thread_squre= threading.Thread(target=squre)"
   ]
  },
  {
   "cell_type": "code",
   "execution_count": 25,
   "id": "55b578f5-ab53-454a-8503-7879192b6be6",
   "metadata": {},
   "outputs": [],
   "source": [
    "#for squre"
   ]
  },
  {
   "cell_type": "code",
   "execution_count": 24,
   "id": "6747b523-cbf8-46d6-bf60-cde7d126b27e",
   "metadata": {},
   "outputs": [
    {
     "name": "stdout",
     "output_type": "stream",
     "text": [
      "squre of 1 = 1\n",
      "squre of 2 = 4\n",
      "squre of 3 = 9\n",
      "squre of 4 = 16\n"
     ]
    }
   ],
   "source": [
    "thread_squre.start()"
   ]
  },
  {
   "cell_type": "code",
   "execution_count": 26,
   "id": "2cdf202e-1312-4eca-9852-6693913ac804",
   "metadata": {},
   "outputs": [],
   "source": [
    "#for cube"
   ]
  },
  {
   "cell_type": "code",
   "execution_count": 27,
   "id": "55521369-4f01-4483-947d-6cb9362b877b",
   "metadata": {},
   "outputs": [],
   "source": [
    "thread_cube= threading.Thread(target=cube)"
   ]
  },
  {
   "cell_type": "code",
   "execution_count": 29,
   "id": "5519d02a-4583-473a-8ee9-f4b4ddd0d7b7",
   "metadata": {},
   "outputs": [
    {
     "name": "stdout",
     "output_type": "stream",
     "text": [
      "cube of 1 = 1\n",
      "cube of 2 = 8\n",
      "cube of 3 = 27\n",
      "cube of 4 = 64\n"
     ]
    }
   ],
   "source": [
    "thread_cube.start()"
   ]
  },
  {
   "cell_type": "code",
   "execution_count": null,
   "id": "7a726d72-d42f-428f-8dc9-64be7c98471a",
   "metadata": {},
   "outputs": [],
   "source": []
  },
  {
   "cell_type": "markdown",
   "id": "7716d23f-bc0f-402d-a2df-beef149f81ec",
   "metadata": {},
   "source": [
    "Q5. State advantages and disadvantages of multithreading.\n"
   ]
  },
  {
   "cell_type": "markdown",
   "id": "2c058f85-f90e-4851-bb97-36c932948773",
   "metadata": {},
   "source": [
    "Multithreading offers several advantages and disadvantages. Here are some of them:\n",
    "\n",
    "Advantages of Multithreading:\n",
    "\n",
    "1. Improved Performance\n",
    "2. Responsiveness\n",
    "3. Resource Sharing\n",
    "4. Scalability\n",
    "\n",
    "Disadvantages of Multithreading:\n",
    "\n",
    "1. Complexity\n",
    "2. Resource Contentions\n",
    "3. Increased Memory Usage\n",
    "4. Overhead"
   ]
  },
  {
   "cell_type": "code",
   "execution_count": null,
   "id": "b7310a4f-9ba1-47d9-b5e9-77d31cbcc878",
   "metadata": {},
   "outputs": [],
   "source": []
  },
  {
   "cell_type": "markdown",
   "id": "94cad50c-194c-4d4d-a7cb-3598681e21ac",
   "metadata": {},
   "source": [
    "6. Explain deadlocks and race conditions."
   ]
  },
  {
   "cell_type": "markdown",
   "id": "c9da8747-fd4f-44ba-816d-1b26a1f479a0",
   "metadata": {},
   "source": [
    "Deadlock:\n",
    "A deadlock is a situation that occurs in a multithreaded or multitasking environment where two or more threads or processes are unable to proceed because each is waiting for the other to release a resource.\n",
    "\n",
    "Race Condition:\n",
    "A race condition occurs when the behavior or outcome of a program depends on the relative execution order of two or more threads accessing shared data or resources. It arises when multiple threads concurrently access and modify shared data without proper synchronization, leading to unpredictable and undesired results."
   ]
  },
  {
   "cell_type": "code",
   "execution_count": null,
   "id": "1685dd19-b08d-411c-86aa-2bdd5fe2996f",
   "metadata": {},
   "outputs": [],
   "source": []
  },
  {
   "cell_type": "markdown",
   "id": "235ac9e6-1d07-4b34-b989-671443a2624c",
   "metadata": {},
   "source": [
    "BY-Saddam Ansari , Place-Sahasa , Date-29/06/2023"
   ]
  },
  {
   "cell_type": "code",
   "execution_count": null,
   "id": "ccb138d9-7168-4978-a87d-4bac04b3f48d",
   "metadata": {},
   "outputs": [],
   "source": []
  }
 ],
 "metadata": {
  "kernelspec": {
   "display_name": "Python 3 (ipykernel)",
   "language": "python",
   "name": "python3"
  },
  "language_info": {
   "codemirror_mode": {
    "name": "ipython",
    "version": 3
   },
   "file_extension": ".py",
   "mimetype": "text/x-python",
   "name": "python",
   "nbconvert_exporter": "python",
   "pygments_lexer": "ipython3",
   "version": "3.10.8"
  }
 },
 "nbformat": 4,
 "nbformat_minor": 5
}
